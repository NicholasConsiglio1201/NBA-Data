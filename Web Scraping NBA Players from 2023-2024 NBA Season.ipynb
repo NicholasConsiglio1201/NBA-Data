{
 "cells": [
  {
   "cell_type": "markdown",
   "id": "b8d83107",
   "metadata": {},
   "source": [
    "# Number of Players by College in the NBA 2023-2024 Season"
   ]
  },
  {
   "cell_type": "markdown",
   "id": "3739198f",
   "metadata": {},
   "source": [
    "The point of grabbing this data is to analyze which College has the most players in the NBA 2024 Season."
   ]
  },
  {
   "cell_type": "code",
   "execution_count": 1,
   "id": "470e8cd9",
   "metadata": {},
   "outputs": [],
   "source": [
    "# Importing the ability to use Pandas to manipulate data\n",
    "import pandas as pd\n",
    "# Importing the ability to use Numpy to work with arrays\n",
    "import numpy as np\n",
    "# Seeing the max number of rows and columns for our data.\n",
    "pd.set_option('display.max_rows', None, 'display.max_columns', None)"
   ]
  },
  {
   "cell_type": "code",
   "execution_count": 4,
   "id": "5c6e9c34",
   "metadata": {},
   "outputs": [],
   "source": [
    "# Importing the ability to use Webscraping\n",
    "from selenium import webdriver\n",
    "from selenium.webdriver.common.by import By\n",
    "from selenium.webdriver.support.ui import WebDriverWait\n",
    "from selenium.webdriver.support import expected_conditions as EC\n",
    "import pandas as pd\n",
    "\n",
    "# Set up Selenium WebDriver (you need to have a compatible WebDriver installed)\n",
    "driver = webdriver.Chrome()\n",
    "\n",
    "# Open the webpage\n",
    "url = 'https://www.nba.com/players'\n",
    "driver.get(url)\n",
    "\n",
    "# Function to extract tables from the current page\n",
    "def extract_tables():\n",
    "    html_content = driver.page_source\n",
    "    return pd.read_html(html_content)\n",
    "\n",
    "# Function to check if there's a next page and navigate to it\n",
    "def goto_next_page():\n",
    "    try:\n",
    "        next_button = WebDriverWait(driver, 10).until(\n",
    "            EC.element_to_be_clickable((By.XPATH, '//*[@id=\"__next\"]/div[2]/div[2]/main/div[2]/section/div/div[2]/div[1]/div[7]/div/div[5]/button[2]'))\n",
    "        )\n",
    "        next_button.click()\n",
    "        return True\n",
    "    except:\n",
    "        return False\n",
    "\n",
    "# Extract tables from all pages\n",
    "all_tables = []\n",
    "max_retries = 5\n",
    "retry_count = 0\n",
    "\n",
    "while True:\n",
    "    all_tables.extend(extract_tables())\n",
    "    if not goto_next_page():\n",
    "        retry_count += 1\n",
    "        if retry_count >= max_retries:\n",
    "            break\n",
    "        else:\n",
    "            continue\n",
    "    else:\n",
    "        retry_count = 0\n",
    "\n",
    "# Close the WebDriver\n",
    "driver.quit()\n",
    "\n",
    "# Now you can work with the extracted tables as needed\n",
    "for idx, table in enumerate(all_tables):\n",
    "    print(f\"Table {idx + 1}:\")\n",
    "    print(table)"
   ]
  },
  {
   "cell_type": "code",
   "execution_count": 4,
   "id": "d5bb54d2",
   "metadata": {},
   "outputs": [],
   "source": [
    "# Joining all of the tables together to create a \n",
    "joined_tables = pd.concat(all_tables, ignore_index = True)"
   ]
  },
  {
   "cell_type": "code",
   "execution_count": 5,
   "id": "836425c6",
   "metadata": {},
   "outputs": [],
   "source": [
    "# Extracting the First Name\n",
    "def clean_name(name):\n",
    "    '''\n",
    "    Purpose: This function cleans up the name of the each player if it is needed.\n",
    "    Returns: A cleaned name string.\n",
    "    '''\n",
    "    upcase = 0\n",
    "    first_name = ''\n",
    "    last_name = ''\n",
    "    for letter in name:\n",
    "        if letter.isupper() == True:\n",
    "            upcase = upcase + 1\n",
    "            if upcase == 1:\n",
    "                first_name = first_name + letter\n",
    "            else:\n",
    "                last_name = last_name + letter\n",
    "        elif letter.isupper() == False and upcase == 1:\n",
    "            first_name = first_name + letter\n",
    "        elif letter.isupper() == False and upcase > 1:\n",
    "            last_name = last_name + letter\n",
    "    return first_name + ' ' + last_name"
   ]
  },
  {
   "cell_type": "code",
   "execution_count": 7,
   "id": "c328ebef",
   "metadata": {},
   "outputs": [],
   "source": [
    "# Applying the function that cleans the name\n",
    "joined_tables['Player'] = joined_tables['Player'].apply(clean_name)\n",
    "joined_tables = joined_tables.drop_duplicates()\n",
    "joined_tables.head()"
   ]
  },
  {
   "cell_type": "code",
   "execution_count": 18,
   "id": "cefca3cd",
   "metadata": {},
   "outputs": [],
   "source": [
    "# Doing some of my own quick replacement to handle certain scenarios\n",
    "joined_tables['Player'] = joined_tables['Player'].replace('O GAnunoby', 'OG Anunoby')\n",
    "joined_tables['Player'] = joined_tables['Player'].replace('La MeloBall', 'LaMelo Ball')\n",
    "joined_tables['Player'] = joined_tables['Player'].replace('R JBarret', 'RJ Barret')\n",
    "joined_tables['Player'] = joined_tables['Player'].replace('Mar JonBeauchamp', 'MarJon Beauchamp')\n",
    "joined_tables['Player'] = joined_tables['Player'].replace('J DDavison', 'JD Davison')\n",
    "joined_tables['Player'] = joined_tables['Player'].replace('De MarDeRozan', 'DeMar DeRozan')\n",
    "joined_tables['Player'] = joined_tables['Player'].replace(\"De' AaronFox\", \"De'Aaron Fox\")\n",
    "joined_tables['Player'] = joined_tables['Player'].replace('A JGreen', 'AJ Green')\n",
    "joined_tables['Player'] = joined_tables['Player'].replace('A JGriffin', 'AJ Griffin')\n",
    "joined_tables['Player'] = joined_tables['Player'].replace('R. J.Hampton', 'R.J. Hampton')\n",
    "joined_tables['Player'] = joined_tables['Player'].replace(\"D' MoiHodge\", \"D'Moi Hodge\")\n",
    "joined_tables['Player'] = joined_tables['Player'].replace(\"De' AndreHunter\", \"De'Andre Hunter\")\n",
    "joined_tables['Player'] = joined_tables['Player'].replace('G GJackson', 'GG Jackson')\n",
    "joined_tables['Player'] = joined_tables['Player'].replace('Le BronJames', 'LeBron James')\n",
    "joined_tables['Player'] = joined_tables['Player'].replace('Da QuanJeffries', 'DaQuan Jeffries')\n",
    "joined_tables['Player'] = joined_tables['Player'].replace('De AndreJordan', 'DeAndre Jordan')\n",
    "joined_tables['Player'] = joined_tables['Player'].replace('A. J.Lawson', 'A.J. Lawson')\n",
    "joined_tables['Player'] = joined_tables['Player'].replace('E. J.Liddell', 'E.J. Liddell')\n",
    "joined_tables['Player'] = joined_tables['Player'].replace('K JMartin', 'KJ Martin')\n",
    "joined_tables['Player'] = joined_tables['Player'].replace('C JMcCollum', 'CJ McCollum')\n",
    "joined_tables['Player'] = joined_tables['Player'].replace('T. J.McConnell', 'T.J. McConnell')\n",
    "joined_tables['Player'] = joined_tables['Player'].replace('Ja ValeMcGee', 'JaVale McGee')\n",
    "joined_tables['Player'] = joined_tables['Player'].replace(\"De' AnthonyMelton\", \"De'Anthony Melton\")\n",
    "joined_tables['Player'] = joined_tables['Player'].replace(\"D' AngeloRussell\", \"De'Angelo Russell\")\n",
    "joined_tables['Player'] = joined_tables['Player'].replace(\"Day' RonSharpe\", \"Day'Ron Sharpe\")\n",
    "joined_tables['Player'] = joined_tables['Player'].replace(\"Jae' SeanTate\", \"Jae'Sean Tate\")\n",
    "joined_tables['Player'] = joined_tables['Player'].replace(\"Karl- AnthonyTowns\", \"Karl-Anthony Towns\")\n",
    "joined_tables['Player'] = joined_tables['Player'].replace(\"P. J.Tucker\", \"P.J. Tucker\")\n",
    "joined_tables['Player'] = joined_tables['Player'].replace(\"P. J.Washington\", \"P.J. Washington\")\n",
    "joined_tables['Player'] = joined_tables['Player'].replace(\"Ty TyWashington Jr.\", \"Ty Ty Washington Jr.\")"
   ]
  },
  {
   "cell_type": "code",
   "execution_count": 20,
   "id": "9aa3775e",
   "metadata": {},
   "outputs": [],
   "source": [
    "# Exporting the Data to an Excel Sheet\n",
    "joined_tables.to_excel('NBA Players.xlsx')"
   ]
  }
 ],
 "metadata": {
  "kernelspec": {
   "display_name": "Python 3 (ipykernel)",
   "language": "python",
   "name": "python3"
  },
  "language_info": {
   "codemirror_mode": {
    "name": "ipython",
    "version": 3
   },
   "file_extension": ".py",
   "mimetype": "text/x-python",
   "name": "python",
   "nbconvert_exporter": "python",
   "pygments_lexer": "ipython3",
   "version": "3.11.3"
  }
 },
 "nbformat": 4,
 "nbformat_minor": 5
}
